{
 "cells": [
  {
   "cell_type": "markdown",
   "id": "3e1a72b7",
   "metadata": {},
   "source": [
    "13.1"
   ]
  },
  {
   "cell_type": "code",
   "execution_count": null,
   "id": "ab92bb3f",
   "metadata": {},
   "outputs": [],
   "source": [
    "from datetime import date, datetime\n",
    "\n",
    "today = date(2023, 4, 30)\n",
    "strdate = str(today)\n",
    "\n",
    "with open(\"today.txt\", \"w\") as a:\n",
    "    a.write(strdate)"
   ]
  },
  {
   "cell_type": "markdown",
   "id": "3eb4a884",
   "metadata": {},
   "source": [
    "13.2"
   ]
  },
  {
   "cell_type": "code",
   "execution_count": 1,
   "id": "26b4ebe3",
   "metadata": {},
   "outputs": [],
   "source": [
    "with open(\"today.txt\", \"r\") as b:\n",
    "    today_string = b.read()\n",
    "    \n",
    "#Didn't need just testing\n",
    "#print (today_string)"
   ]
  },
  {
   "cell_type": "markdown",
   "id": "4d1db743",
   "metadata": {},
   "source": [
    "13.3"
   ]
  },
  {
   "cell_type": "code",
   "execution_count": null,
   "id": "b427dcae",
   "metadata": {},
   "outputs": [],
   "source": [
    "parse = datetime.strptime(today_string, '%Y-%m-%d')\n",
    "print (parse.date())"
   ]
  }
 ],
 "metadata": {
  "kernelspec": {
   "display_name": "Python 3 (ipykernel)",
   "language": "python",
   "name": "python3"
  },
  "language_info": {
   "codemirror_mode": {
    "name": "ipython",
    "version": 3
   },
   "file_extension": ".py",
   "mimetype": "text/x-python",
   "name": "python",
   "nbconvert_exporter": "python",
   "pygments_lexer": "ipython3",
   "version": "3.10.9"
  }
 },
 "nbformat": 4,
 "nbformat_minor": 5
}
